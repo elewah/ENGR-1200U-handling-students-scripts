{
 "cells": [
  {
   "cell_type": "code",
   "execution_count": 12,
   "id": "2ed9438e",
   "metadata": {},
   "outputs": [
    {
     "name": "stdout",
     "output_type": "stream",
     "text": [
      "<class 'pandas.core.frame.DataFrame'>\n",
      "Int64Index: 1 entries, 10 to 10\n",
      "Columns: 117 entries, # to Quiz 1- Requires Respondus LockDown Browser (148211)\n",
      "dtypes: float64(44), int64(4), object(69)\n",
      "memory usage: 944.0+ bytes\n",
      "None\n"
     ]
    }
   ],
   "source": [
    "import glob\n",
    "import pandas as pd\n",
    "leactures_CRN = glob.glob('lectures-CRNs/*.csv')\n",
    "groupedStudents = glob.glob('groupedStudents/*.csv')\n",
    "my_CRN='CRNs/roster_CRN_71160.csv'\n",
    "my_CRN_df=pd.read_csv(my_CRN)\n",
    "# Concatenate the list of dataframes\n",
    "groupedStudents_df = pd.concat([pd.read_csv(i) for i in groupedStudents], ignore_index=True)\n",
    "# Assuming you have two dataframes: dfA and dfB\n",
    "# Replace 'common_column_A' and 'common_column_B' with the actual column names\n",
    "\n",
    "# To find missing rows in dfB\n",
    "missing_students_df = my_CRN_df.merge(groupedStudents_df, \n",
    "                             left_on='Student ID', \n",
    "                             right_on='SIS Login ID', \n",
    "\n",
    "                             how='left', indicator=True).query(\n",
    "                                 '_merge == \"left_only\"').drop('_merge', axis=1)\n",
    "\n",
    "print(missing_students_df.info())\n"
   ]
  },
  {
   "cell_type": "code",
   "execution_count": 13,
   "id": "5564ae1c",
   "metadata": {},
   "outputs": [
    {
     "name": "stdout",
     "output_type": "stream",
     "text": [
      "Record with ID 100855555 found in lectures-CRNs\\roster_CRN_75526.csv\n"
     ]
    },
    {
     "name": "stderr",
     "output_type": "stream",
     "text": [
      "C:\\Users\\Abdelrahman Elewah\\AppData\\Local\\Temp\\ipykernel_22612\\4025982845.py:28: FutureWarning: The frame.append method is deprecated and will be removed from pandas in a future version. Use pandas.concat instead.\n",
      "  matching_records_df = matching_records_df.append(row, ignore_index=True)\n"
     ]
    }
   ],
   "source": [
    "import pandas as pd\n",
    "\n",
    "# Path to the CSV file with many records\n",
    "# main_csv_file = 'main_file.csv'  # Replace with your file path\n",
    "\n",
    "# List of CSV file paths to check against\n",
    "# leactures_CRN = ['file1.csv', 'file2.csv', 'file3.csv']  # Add your CSV file paths here\n",
    "\n",
    "# Read the main CSV file into a dataframe\n",
    "# main_df = pd.read_csv(main_csv_file)\n",
    "missing_students_df\n",
    "# Create an empty dataframe to store the matching records\n",
    "matching_records_df = pd.DataFrame(columns=missing_students_df.columns)\n",
    "\n",
    "# Iterate over each record in the main CSV file\n",
    "for index, row in missing_students_df.iterrows():\n",
    "    target_id = row['Student ID']  # Assuming 'id' is the common ID column, replace it with the actual column name\n",
    "\n",
    "    # Iterate through other CSV files and check for the target ID\n",
    "    for other_csv_file in leactures_CRN:\n",
    "        try:\n",
    "            # Read the other CSV file into a dataframe\n",
    "            other_df = pd.read_csv(other_csv_file, skiprows=1)\n",
    "\n",
    "            # Check if the target ID exists in the other dataframe\n",
    "            if target_id in other_df['Student ID'].values:\n",
    "                # Append the matching record to the new dataframe\n",
    "                matching_records_df = matching_records_df.append(row, ignore_index=True)\n",
    "                matching_records_df.loc[matching_records_df[\"Student ID\"]==target_id, \"lectures-CRN\"]=other_csv_file.replace(\".csv\",\"\").split('_')[2]\n",
    "                print(f\"Record with ID {target_id} found in {other_csv_file}\")\n",
    "                # Optionally, you can break out of the loop if you only want to find the first occurrence\n",
    "                break\n",
    "        except pd.errors.EmptyDataError:\n",
    "            # Handle empty CSV files if needed\n",
    "            print(f\"Skipping empty file: {other_csv_file}\")\n",
    "        except pd.errors.ParserError:\n",
    "            # Handle parsing errors if needed\n",
    "            print(f\"Error parsing file: {other_csv_file}\")\n",
    "\n",
    "# Save the matching records to a new CSV file\n",
    "matching_records_df = matching_records_df.dropna(axis=1, how='all')\n",
    "matching_records_df.to_csv('ungrouped-Student.csv', index=False)\n"
   ]
  },
  {
   "cell_type": "code",
   "execution_count": null,
   "id": "134eb289",
   "metadata": {},
   "outputs": [],
   "source": []
  },
  {
   "cell_type": "code",
   "execution_count": null,
   "id": "50d6abf8",
   "metadata": {},
   "outputs": [],
   "source": []
  }
 ],
 "metadata": {
  "kernelspec": {
   "display_name": "Python 3 (ipykernel)",
   "language": "python",
   "name": "python3"
  },
  "language_info": {
   "codemirror_mode": {
    "name": "ipython",
    "version": 3
   },
   "file_extension": ".py",
   "mimetype": "text/x-python",
   "name": "python",
   "nbconvert_exporter": "python",
   "pygments_lexer": "ipython3",
   "version": "3.11.5"
  }
 },
 "nbformat": 4,
 "nbformat_minor": 5
}
