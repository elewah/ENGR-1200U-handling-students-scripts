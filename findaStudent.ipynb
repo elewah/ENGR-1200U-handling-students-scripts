{
 "cells": [
  {
   "cell_type": "code",
   "execution_count": 6,
   "id": "dd1ba5a5",
   "metadata": {},
   "outputs": [
    {
     "name": "stdout",
     "output_type": "stream",
     "text": [
      "Requirement already satisfied: pandas==2.1.0 in c:\\anaconda3\\lib\\site-packages (2.1.0)\n",
      "Requirement already satisfied: numpy>=1.23.2 in c:\\anaconda3\\lib\\site-packages (from pandas==2.1.0) (1.24.3)\n",
      "Requirement already satisfied: python-dateutil>=2.8.2 in c:\\anaconda3\\lib\\site-packages (from pandas==2.1.0) (2.8.2)\n",
      "Requirement already satisfied: pytz>=2020.1 in c:\\anaconda3\\lib\\site-packages (from pandas==2.1.0) (2023.3.post1)\n",
      "Requirement already satisfied: tzdata>=2022.1 in c:\\anaconda3\\lib\\site-packages (from pandas==2.1.0) (2023.3)\n",
      "Requirement already satisfied: six>=1.5 in c:\\anaconda3\\lib\\site-packages (from python-dateutil>=2.8.2->pandas==2.1.0) (1.16.0)\n",
      "File:  CRNs\\roster_CRN_75526.csv\n",
      "Student ID:  100927810\n",
      "First Name:  Chidubem\n",
      "Last Name:  Edom\n",
      " Grade: 0\n",
      "File:  CRNs\\roster_CRN_72796.csv\n",
      "Student ID:  100927810\n",
      "First Name:  Chidubem\n",
      "Last Name:  Edom\n",
      " Grade: 0\n"
     ]
    }
   ],
   "source": [
    "!pip install pandas==2.1.0\n",
    "import pandas as pd\n",
    "import glob\n",
    "\n",
    "csv_files = glob.glob(\"CRNs/*.csv\")\n",
    "search_id = 100927810\n",
    "studentResult=0\n",
    "for csv_file in csv_files:\n",
    "    df = pd.read_csv(csv_file, skiprows=1)\n",
    "    result = df.loc[df['Student ID'] == search_id]\n",
    "    if result.empty == False:\n",
    "        Csv_File=csv_file\n",
    "        df_result=result.copy()\n",
    "#         print(df_result.head())\n",
    "        df_result[\"result\"]=studentResult\n",
    "        lastName=list(df_result[\"Last Name\"])[0]\n",
    "        firstName=list(df_result[\"First Name\"])[0]\n",
    "        print(f\"File:  {Csv_File}\")\n",
    "        print(f\"Student ID:  {search_id}\")\n",
    "        print(f\"First Name:  {firstName}\")\n",
    "        print(f\"Last Name:  {lastName}\")\n",
    "        print(f\" Grade: {studentResult}\")\n",
    "     \n",
    "    \n",
    "df1 = pd.read_csv('GradesFile.csv')\n",
    "combined_df = pd.concat([df1, df_result], ignore_index=True)\n",
    "combined_df.drop_duplicates(subset='Student ID', inplace=True)\n",
    "combined_df.to_csv('GradesFile.csv',index=False)"
   ]
  },
  {
   "cell_type": "code",
   "execution_count": 4,
   "id": "69ba40b9",
   "metadata": {},
   "outputs": [
    {
     "name": "stdout",
     "output_type": "stream",
     "text": [
      "2.1.4\n"
     ]
    }
   ],
   "source": [
    "print(pd.__version__)"
   ]
  },
  {
   "cell_type": "code",
   "execution_count": null,
   "id": "941ea3d9",
   "metadata": {},
   "outputs": [],
   "source": []
  },
  {
   "cell_type": "code",
   "execution_count": null,
   "id": "2eabb182",
   "metadata": {},
   "outputs": [],
   "source": []
  }
 ],
 "metadata": {
  "kernelspec": {
   "display_name": "Python 3 (ipykernel)",
   "language": "python",
   "name": "python3"
  },
  "language_info": {
   "codemirror_mode": {
    "name": "ipython",
    "version": 3
   },
   "file_extension": ".py",
   "mimetype": "text/x-python",
   "name": "python",
   "nbconvert_exporter": "python",
   "pygments_lexer": "ipython3",
   "version": "3.11.5"
  }
 },
 "nbformat": 4,
 "nbformat_minor": 5
}
