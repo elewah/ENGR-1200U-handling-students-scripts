{
 "cells": [
  {
   "cell_type": "code",
   "execution_count": 19,
   "id": "dd1ba5a5",
   "metadata": {},
   "outputs": [],
   "source": [
    "import pandas as pd\n",
    "import glob\n",
    "\n",
    "# Find all CSV files in the current folder\n",
    "csv_files = glob.glob(\"*.csv\")\n",
    "\n",
    "# Define the ID you are searching for\n",
    "search_id = 12345\n",
    "\n",
    "# Iterate over all CSV files\n",
    "for csv_file in csv_files:\n",
    "    # Read the CSV file into a pandas DataFrame\n",
    "    df = pd.read_csv(csv_file)\n",
    "    \n",
    "    # Find the row(s) with the ID you are searching for\n",
    "    result = df.loc[df['Student ID'] == search_id]\n",
    "\n",
    "    # Check if the result is empty\n",
    "    if result.empty == False:\n",
    "        print(f\"The ID '{search_id}' exists in the CSV file {csv_file} in the following row(s):\")\n",
    "        print(result)\n"
   ]
  }
 ],
 "metadata": {
  "kernelspec": {
   "display_name": "Python 3",
   "language": "python",
   "name": "python3"
  },
  "language_info": {
   "codemirror_mode": {
    "name": "ipython",
    "version": 3
   },
   "file_extension": ".py",
   "mimetype": "text/x-python",
   "name": "python",
   "nbconvert_exporter": "python",
   "pygments_lexer": "ipython3",
   "version": "3.8.8"
  }
 },
 "nbformat": 4,
 "nbformat_minor": 5
}
