{
 "cells": [
  {
   "cell_type": "code",
   "execution_count": null,
   "id": "dd1ba5a5",
   "metadata": {},
   "outputs": [],
   "source": [
    "!pip install pandas==2.1.0\n",
    "import pandas as pd\n",
    "import glob\n",
    "\n",
    "csv_files = glob.glob(\"CRNs/*.csv\")\n",
    "search_id = 100922320\n",
    "studentResult=0\n",
    "for csv_file in csv_files:\n",
    "    df = pd.read_csv(csv_file, skiprows=1)\n",
    "    result = df.loc[df['Student ID'] == search_id]\n",
    "    if result.empty == False:\n",
    "        Csv_File=csv_file\n",
    "        df_result=result.copy()\n",
    "#         print(df_result.head())\n",
    "        df_result[\"result\"]=studentResult\n",
    "        lastName=list(df_result[\"Last Name\"])[0]\n",
    "        firstName=list(df_result[\"First Name\"])[0]\n",
    "        print(f\"File:  {Csv_File}\")\n",
    "        print(f\"Student ID:  {search_id}\")\n",
    "        print(f\"First Name:  {firstName}\")\n",
    "        print(f\"Last Name:  {lastName}\")\n",
    "        print(f\" Grade: {studentResult}\")\n",
    "     \n",
    "    \n",
    "df1 = pd.read_csv('GradesFile.csv')\n",
    "combined_df = pd.concat([df1, df_result], ignore_index=True)\n",
    "combined_df.drop_duplicates(subset='Student ID', inplace=True)\n",
    "combined_df.to_csv('GradesFile.csv',index=False)"
   ]
  },
  {
   "cell_type": "code",
   "execution_count": 2,
   "id": "69ba40b9",
   "metadata": {},
   "outputs": [
    {
     "name": "stdout",
     "output_type": "stream",
     "text": [
      "2.2.1\n"
     ]
    }
   ],
   "source": [
    "print(pd.__version__)"
   ]
  },
  {
   "cell_type": "code",
   "execution_count": null,
   "id": "941ea3d9",
   "metadata": {},
   "outputs": [],
   "source": []
  }
 ],
 "metadata": {
  "kernelspec": {
   "display_name": "Python 3 (ipykernel)",
   "language": "python",
   "name": "python3"
  },
  "language_info": {
   "codemirror_mode": {
    "name": "ipython",
    "version": 3
   },
   "file_extension": ".py",
   "mimetype": "text/x-python",
   "name": "python",
   "nbconvert_exporter": "python",
   "pygments_lexer": "ipython3",
   "version": "3.11.5"
  }
 },
 "nbformat": 4,
 "nbformat_minor": 5
}
