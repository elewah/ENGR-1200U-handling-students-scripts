{
 "cells": [
  {
   "cell_type": "code",
   "execution_count": 41,
   "id": "dd1ba5a5",
   "metadata": {},
   "outputs": [
    {
     "name": "stdout",
     "output_type": "stream",
     "text": [
      "The ID '100572435' exists in the CSV file roster_CRN_70610.csv in the following row(s):\n",
      "     #  Term Code    CRN Course Code  Student ID Last Name First Name Middle  \\\n",
      "89  90     202301  70610  ENGR 1200U   100572435    Licini  Sebastian    NaN   \n",
      "\n",
      "                        Email  \n",
      "89  sebastian.licini@uoit.net  \n",
      "The ID '100572435' exists in the CSV file roster_CRN_71087.csv in the following row(s):\n",
      "     #  Term Code    CRN Course Code  Student ID Last Name First Name Middle  \\\n",
      "19  20     202301  71087  ENGR 1200U   100572435    Licini  Sebastian    NaN   \n",
      "\n",
      "                        Email  \n",
      "19  sebastian.licini@uoit.net  \n"
     ]
    }
   ],
   "source": [
    "import pandas as pd\n",
    "import glob\n",
    "\n",
    "# Find all CSV files in the current folder\n",
    "csv_files = glob.glob(\"*.csv\")\n",
    "\n",
    "# Define the ID you are searching for\n",
    "search_id = 1234\n",
    "studentResult=12\n",
    "# Iterate over all CSV files\n",
    "for csv_file in csv_files:\n",
    "    # Read the CSV file into a pandas DataFrame\n",
    "    df = pd.read_csv(csv_file)\n",
    "    \n",
    "    # Find the row(s) with the ID you are searching for\n",
    "    result = df.loc[df['Student ID'] == search_id]\n",
    "\n",
    "    # Check if the result is empty\n",
    "    if result.empty == False:\n",
    "        print(f\"The ID '{search_id}' exists in the CSV file {csv_file} in the following row(s):\")\n",
    "        print(result)\n",
    "        df_result=result.copy()\n"
   ]
  },
  {
   "cell_type": "code",
   "execution_count": 42,
   "id": "db4d0fe9",
   "metadata": {},
   "outputs": [],
   "source": [
    "df_result[\"result\"]=studentResult"
   ]
  },
  {
   "cell_type": "code",
   "execution_count": 43,
   "id": "c7fc68c4",
   "metadata": {},
   "outputs": [],
   "source": [
    "# import pandas as pd\n",
    "\n",
    "# # Read the first CSV file into a dataframe\n",
    "df1 = pd.read_csv('GradesFile.csv')\n",
    "\n",
    "# # Read the second CSV file into a dataframe\n",
    "# df2 = pd.read_csv('file2.csv')\n",
    "\n",
    "# # Concatenate the dataframes vertically\n",
    "combined_df = pd.concat([df1, df_result], ignore_index=True)\n",
    "\n",
    "# # Drop duplicates based on the 'ID' column\n",
    "combined_df.drop_duplicates(subset='Student ID', inplace=True)\n",
    "\n",
    "# Write the result to a new CSV file\n",
    "# combined_df.to_csv('GradesFile.csv', index=False)\n",
    "combined_df.to_csv('GradesFile.csv',index=False)\n"
   ]
  }
 ],
 "metadata": {
  "kernelspec": {
   "display_name": "Python 3",
   "language": "python",
   "name": "python3"
  },
  "language_info": {
   "codemirror_mode": {
    "name": "ipython",
    "version": 3
   },
   "file_extension": ".py",
   "mimetype": "text/x-python",
   "name": "python",
   "nbconvert_exporter": "python",
   "pygments_lexer": "ipython3",
   "version": "3.8.8"
  }
 },
 "nbformat": 4,
 "nbformat_minor": 5
}
