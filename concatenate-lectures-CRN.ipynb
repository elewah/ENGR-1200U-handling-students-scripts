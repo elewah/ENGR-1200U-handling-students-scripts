{
 "cells": [
  {
   "cell_type": "code",
   "execution_count": 15,
   "id": "e1b2e75d",
   "metadata": {},
   "outputs": [
    {
     "name": "stdout",
     "output_type": "stream",
     "text": [
      "can-lectures-CRNs\\2024-04-15T1716_Grades-202401_-_Introduction_to_Programming_-_71041.csv\n",
      "can-lectures-CRNs\\2024-04-15T1716_Grades-202401_-_Introduction_to_Programming_-_75526.csv\n",
      "can-lectures-CRNs\\2024-04-15T1715_Grades-202401_-_Introduction_to_Programming_-_70610.csv\n",
      "can-lectures-CRNs\\2024-04-15T1714_Grades-202401_-_Introduction_to_Programming_-_70607.csv\n",
      "Concatenation completed. Output saved as 'concatenated_output.csv'.\n"
     ]
    }
   ],
   "source": [
    "import os\n",
    "import pandas as pd\n",
    "import glob\n",
    "# Get the current working directory\n",
    "cwd = os.getcwd()\n",
    "# csv_directory = 'lectures-CRNs/'\n",
    "leactures_CRN = glob.glob('can-lectures-CRNs/*.csv')\n",
    "# List all CSV files in the current directory\n",
    "# csv_files = [file for file in os.listdir(csv_directory) if file.endswith('.csv')]\n",
    "\n",
    "# Initialize an empty list to store dataframes\n",
    "dataframes = []\n",
    "\n",
    "# Loop through each CSV file and read it into a dataframe\n",
    "for file in leactures_CRN:\n",
    "    print(file)\n",
    "    file_path = os.path.join(cwd, file)\n",
    "    df = pd.read_csv(file_path)\n",
    "    df=df[list(df.columns[:4].values)]\n",
    "    df=df.dropna()\n",
    "    dataframes.append(df)\n",
    "\n",
    "# Concatenate all dataframes along the rows axis (axis=0)\n",
    "concatenated_df = pd.concat(dataframes, axis=0)\n",
    "\n",
    "# Write the concatenated dataframe to a new CSV file\n",
    "concatenated_df.to_csv('final test-exam-intro-to-programming.csv', index=False)\n",
    "\n",
    "print(\"Concatenation completed. Output saved as 'concatenated_output.csv'.\")\n"
   ]
  },
  {
   "cell_type": "code",
   "execution_count": 16,
   "id": "2e2f60b3",
   "metadata": {},
   "outputs": [
    {
     "name": "stdout",
     "output_type": "stream",
     "text": [
      "<class 'pandas.core.frame.DataFrame'>\n",
      "Index: 584 entries, 2 to 149\n",
      "Data columns (total 4 columns):\n",
      " #   Column        Non-Null Count  Dtype  \n",
      "---  ------        --------------  -----  \n",
      " 0   Student       584 non-null    object \n",
      " 1   ID            584 non-null    float64\n",
      " 2   SIS Login ID  584 non-null    object \n",
      " 3   Section       584 non-null    object \n",
      "dtypes: float64(1), object(3)\n",
      "memory usage: 22.8+ KB\n"
     ]
    }
   ],
   "source": [
    "concatenated_df.info()"
   ]
  }
 ],
 "metadata": {
  "kernelspec": {
   "display_name": "Python 3 (ipykernel)",
   "language": "python",
   "name": "python3"
  },
  "language_info": {
   "codemirror_mode": {
    "name": "ipython",
    "version": 3
   },
   "file_extension": ".py",
   "mimetype": "text/x-python",
   "name": "python",
   "nbconvert_exporter": "python",
   "pygments_lexer": "ipython3",
   "version": "3.11.5"
  }
 },
 "nbformat": 4,
 "nbformat_minor": 5
}
