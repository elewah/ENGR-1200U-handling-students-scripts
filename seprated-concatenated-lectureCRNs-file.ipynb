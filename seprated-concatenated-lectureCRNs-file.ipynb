{
 "cells": [
  {
   "cell_type": "code",
   "execution_count": 1,
   "id": "e1b2e75d",
   "metadata": {},
   "outputs": [
    {
     "name": "stdout",
     "output_type": "stream",
     "text": [
      "can-lectures-CRNs\\2024-04-15T1716_Grades-202401_-_Introduction_to_Programming_-_71041.csv\n",
      "can-lectures-CRNs\\2024-04-15T1716_Grades-202401_-_Introduction_to_Programming_-_75526.csv\n",
      "can-lectures-CRNs\\2024-04-15T1715_Grades-202401_-_Introduction_to_Programming_-_70610.csv\n",
      "can-lectures-CRNs\\2024-04-15T1714_Grades-202401_-_Introduction_to_Programming_-_70607.csv\n"
     ]
    }
   ],
   "source": [
    "import os\n",
    "import pandas as pd\n",
    "import glob\n",
    "# Get the current working directory\n",
    "cwd = os.getcwd()\n",
    "# csv_directory = 'lectures-CRNs/'\n",
    "leactures_CRN = glob.glob('can-lectures-CRNs/*.csv')\n",
    "# List all CSV files in the current directory\n",
    "# csv_files = [file for file in os.listdir(csv_directory) if file.endswith('.csv')]\n",
    "\n",
    "# Initialize an empty list to store dataframes\n",
    "dataframes = []\n",
    "\n",
    "# Loop through each CSV file and read it into a dataframe\n",
    "for file in leactures_CRN:\n",
    "    print(file)\n",
    "    file_path = os.path.join(cwd, file)\n",
    "    df = pd.read_csv(file_path)\n",
    "    dataframes.append(df)\n"
   ]
  },
  {
   "cell_type": "code",
   "execution_count": 2,
   "id": "2e2f60b3",
   "metadata": {},
   "outputs": [
    {
     "data": {
      "text/plain": [
       "['Student', 'ID', 'SIS Login ID', 'Section', 'Final Exam']"
      ]
     },
     "execution_count": 2,
     "metadata": {},
     "output_type": "execute_result"
    }
   ],
   "source": [
    "df=pd.read_csv(\"final/final exam.csv\")\n",
    "df.head()\n",
    "columns= list(df.columns)[:-1]\n",
    "columns\n",
    "# join_df=df.merge(dataframes[0], on='SIS Login ID', how='inner')\n",
    "# join_df"
   ]
  },
  {
   "cell_type": "code",
   "execution_count": 3,
   "id": "854fda8e",
   "metadata": {},
   "outputs": [],
   "source": [
    "i=0\n",
    "for dataframe in dataframes:\n",
    "    join_df=df.merge(dataframe, on='SIS Login ID', how='inner')\n",
    "    join_df\n",
    "    join_df.columns\n",
    "    df1=pd.DataFrame()\n",
    "    df1=join_df[list(join_df.columns)[:5]]\n",
    "    df1=df1.rename(columns={\n",
    "        \"Student_x\":\"Student\",\n",
    "        \"ID_x\":\"ID\",\n",
    "        \"Section_x\":\"Section\",\n",
    "        \"Final Exam\":\"Final Exam, W2024, Programming\"\n",
    "    })\n",
    "    df1.head()\n",
    "    df1.to_csv(f\"final/test-grade_{leactures_CRN[i][-10:]}\", index=False)\n",
    "    i+=1"
   ]
  },
  {
   "cell_type": "code",
   "execution_count": 4,
   "id": "29e45d60",
   "metadata": {},
   "outputs": [
    {
     "name": "stdout",
     "output_type": "stream",
     "text": [
      "<class 'pandas.core.frame.DataFrame'>\n",
      "RangeIndex: 582 entries, 0 to 581\n",
      "Data columns (total 6 columns):\n",
      " #   Column        Non-Null Count  Dtype  \n",
      "---  ------        --------------  -----  \n",
      " 0   Student       582 non-null    object \n",
      " 1   ID            582 non-null    int64  \n",
      " 2   SIS Login ID  582 non-null    object \n",
      " 3   Section       582 non-null    object \n",
      " 4   Final Exam    524 non-null    float64\n",
      " 5   Unnamed: 5    1 non-null      object \n",
      "dtypes: float64(1), int64(1), object(4)\n",
      "memory usage: 27.4+ KB\n"
     ]
    }
   ],
   "source": [
    "df.info()"
   ]
  },
  {
   "cell_type": "code",
   "execution_count": null,
   "id": "3c2f8906",
   "metadata": {},
   "outputs": [],
   "source": []
  }
 ],
 "metadata": {
  "kernelspec": {
   "display_name": "Python 3 (ipykernel)",
   "language": "python",
   "name": "python3"
  },
  "language_info": {
   "codemirror_mode": {
    "name": "ipython",
    "version": 3
   },
   "file_extension": ".py",
   "mimetype": "text/x-python",
   "name": "python",
   "nbconvert_exporter": "python",
   "pygments_lexer": "ipython3",
   "version": "3.11.5"
  }
 },
 "nbformat": 4,
 "nbformat_minor": 5
}
